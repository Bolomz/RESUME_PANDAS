{
 "cells": [
  {
   "cell_type": "code",
   "execution_count": 1,
   "metadata": {},
   "outputs": [],
   "source": [
    "import pandas as pd\n",
    "import matplotlib.pyplot as plt\n",
    "import seaborn as sns\n",
    "%matplotlib inline"
   ]
  },
  {
   "cell_type": "code",
   "execution_count": 2,
   "metadata": {},
   "outputs": [],
   "source": [
    "work_xp= pd.read_csv('work_experience.csv')"
   ]
  },
  {
   "cell_type": "code",
   "execution_count": 3,
   "metadata": {},
   "outputs": [
    {
     "data": {
      "text/html": [
       "<div>\n",
       "<style scoped>\n",
       "    .dataframe tbody tr th:only-of-type {\n",
       "        vertical-align: middle;\n",
       "    }\n",
       "\n",
       "    .dataframe tbody tr th {\n",
       "        vertical-align: top;\n",
       "    }\n",
       "\n",
       "    .dataframe thead th {\n",
       "        text-align: right;\n",
       "    }\n",
       "</style>\n",
       "<table border=\"1\" class=\"dataframe\">\n",
       "  <thead>\n",
       "    <tr style=\"text-align: right;\">\n",
       "      <th></th>\n",
       "      <th>Unnamed: 0</th>\n",
       "      <th>Degree</th>\n",
       "      <th>Organisation</th>\n",
       "      <th>Position</th>\n",
       "      <th>Program</th>\n",
       "      <th>Role summary</th>\n",
       "      <th>School</th>\n",
       "      <th>Top_achievements</th>\n",
       "      <th>Year of Admission</th>\n",
       "      <th>Year of graduation</th>\n",
       "    </tr>\n",
       "  </thead>\n",
       "  <tbody>\n",
       "    <tr>\n",
       "      <th>0</th>\n",
       "      <td>0</td>\n",
       "      <td>None</td>\n",
       "      <td>Harmony Advanced Diagnostic Centre</td>\n",
       "      <td>Internship Student</td>\n",
       "      <td>None</td>\n",
       "      <td>i worked with the radiographers to know how to...</td>\n",
       "      <td>None</td>\n",
       "      <td>operating some biomedical equipments</td>\n",
       "      <td>None</td>\n",
       "      <td>None</td>\n",
       "    </tr>\n",
       "    <tr>\n",
       "      <th>1</th>\n",
       "      <td>0</td>\n",
       "      <td>None</td>\n",
       "      <td>Temmy Enterprise</td>\n",
       "      <td>Computer Operator</td>\n",
       "      <td>None</td>\n",
       "      <td>None</td>\n",
       "      <td>None</td>\n",
       "      <td>None</td>\n",
       "      <td>None</td>\n",
       "      <td>None</td>\n",
       "    </tr>\n",
       "    <tr>\n",
       "      <th>2</th>\n",
       "      <td>0</td>\n",
       "      <td>B. Eng.</td>\n",
       "      <td>None</td>\n",
       "      <td>None</td>\n",
       "      <td>Mechanical Engineering</td>\n",
       "      <td>None</td>\n",
       "      <td>KWASU</td>\n",
       "      <td>None</td>\n",
       "      <td>2017.0</td>\n",
       "      <td>2022.0</td>\n",
       "    </tr>\n",
       "    <tr>\n",
       "      <th>3</th>\n",
       "      <td>0</td>\n",
       "      <td>None</td>\n",
       "      <td>None</td>\n",
       "      <td>None</td>\n",
       "      <td>None</td>\n",
       "      <td>None</td>\n",
       "      <td>None</td>\n",
       "      <td>['Awards', '']</td>\n",
       "      <td>None</td>\n",
       "      <td>None</td>\n",
       "    </tr>\n",
       "    <tr>\n",
       "      <th>4</th>\n",
       "      <td>0</td>\n",
       "      <td>None</td>\n",
       "      <td>Belgian International School</td>\n",
       "      <td>Teacher</td>\n",
       "      <td>None</td>\n",
       "      <td>Teaching, although hard but easy to practice. ...</td>\n",
       "      <td>None</td>\n",
       "      <td>None</td>\n",
       "      <td>None</td>\n",
       "      <td>None</td>\n",
       "    </tr>\n",
       "    <tr>\n",
       "      <th>5</th>\n",
       "      <td>0</td>\n",
       "      <td>None</td>\n",
       "      <td>None</td>\n",
       "      <td>None</td>\n",
       "      <td>None</td>\n",
       "      <td>None</td>\n",
       "      <td>None</td>\n",
       "      <td>None</td>\n",
       "      <td>None</td>\n",
       "      <td>None</td>\n",
       "    </tr>\n",
       "    <tr>\n",
       "      <th>6</th>\n",
       "      <td>0</td>\n",
       "      <td>None</td>\n",
       "      <td>None</td>\n",
       "      <td>['Research assistant, UPM, 5 years']</td>\n",
       "      <td>None</td>\n",
       "      <td>Perform research activities</td>\n",
       "      <td>None</td>\n",
       "      <td>['Published research that formed basis of a ne...</td>\n",
       "      <td>None</td>\n",
       "      <td>None</td>\n",
       "    </tr>\n",
       "  </tbody>\n",
       "</table>\n",
       "</div>"
      ],
      "text/plain": [
       "   Unnamed: 0  Degree                         Organisation  \\\n",
       "0           0     None  Harmony Advanced Diagnostic Centre   \n",
       "1           0     None                    Temmy Enterprise   \n",
       "2           0  B. Eng.                                None   \n",
       "3           0     None                                None   \n",
       "4           0     None        Belgian International School   \n",
       "5           0     None                                None   \n",
       "6           0     None                                None   \n",
       "\n",
       "                               Position                Program   \\\n",
       "0                    Internship Student                    None   \n",
       "1                     Computer Operator                    None   \n",
       "2                                  None  Mechanical Engineering   \n",
       "3                                  None                    None   \n",
       "4                               Teacher                    None   \n",
       "5                                  None                    None   \n",
       "6  ['Research assistant, UPM, 5 years']                    None   \n",
       "\n",
       "                                        Role summary School   \\\n",
       "0  i worked with the radiographers to know how to...    None   \n",
       "1                                               None    None   \n",
       "2                                               None   KWASU   \n",
       "3                                               None    None   \n",
       "4  Teaching, although hard but easy to practice. ...    None   \n",
       "5                                               None    None   \n",
       "6                        Perform research activities    None   \n",
       "\n",
       "                                    Top_achievements Year of Admission   \\\n",
       "0               operating some biomedical equipments               None   \n",
       "1                                               None               None   \n",
       "2                                               None             2017.0   \n",
       "3                                     ['Awards', '']               None   \n",
       "4                                               None               None   \n",
       "5                                               None               None   \n",
       "6  ['Published research that formed basis of a ne...               None   \n",
       "\n",
       "  Year of graduation   \n",
       "0                None  \n",
       "1                None  \n",
       "2              2022.0  \n",
       "3                None  \n",
       "4                None  \n",
       "5                None  \n",
       "6                None  "
      ]
     },
     "execution_count": 3,
     "metadata": {},
     "output_type": "execute_result"
    }
   ],
   "source": [
    "work_xp"
   ]
  },
  {
   "cell_type": "code",
   "execution_count": 4,
   "metadata": {},
   "outputs": [
    {
     "data": {
      "text/plain": [
       "Index(['Unnamed: 0', 'Degree ', 'Organisation', 'Position', 'Program ',\n",
       "       'Role summary', 'School ', 'Top_achievements', 'Year of Admission ',\n",
       "       'Year of graduation '],\n",
       "      dtype='object')"
      ]
     },
     "execution_count": 4,
     "metadata": {},
     "output_type": "execute_result"
    }
   ],
   "source": [
    " work_xp.columns"
   ]
  },
  {
   "cell_type": "code",
   "execution_count": 5,
   "metadata": {},
   "outputs": [],
   "source": [
    "work_xp= work_xp.drop(['Unnamed: 0'], axis= 1)\n"
   ]
  },
  {
   "cell_type": "code",
   "execution_count": 6,
   "metadata": {},
   "outputs": [
    {
     "data": {
      "text/html": [
       "<div>\n",
       "<style scoped>\n",
       "    .dataframe tbody tr th:only-of-type {\n",
       "        vertical-align: middle;\n",
       "    }\n",
       "\n",
       "    .dataframe tbody tr th {\n",
       "        vertical-align: top;\n",
       "    }\n",
       "\n",
       "    .dataframe thead th {\n",
       "        text-align: right;\n",
       "    }\n",
       "</style>\n",
       "<table border=\"1\" class=\"dataframe\">\n",
       "  <thead>\n",
       "    <tr style=\"text-align: right;\">\n",
       "      <th></th>\n",
       "      <th>Degree</th>\n",
       "      <th>Organisation</th>\n",
       "      <th>Position</th>\n",
       "      <th>Program</th>\n",
       "      <th>Role summary</th>\n",
       "      <th>School</th>\n",
       "      <th>Top_achievements</th>\n",
       "      <th>Year of Admission</th>\n",
       "      <th>Year of graduation</th>\n",
       "    </tr>\n",
       "  </thead>\n",
       "  <tbody>\n",
       "    <tr>\n",
       "      <th>0</th>\n",
       "      <td>None</td>\n",
       "      <td>Harmony Advanced Diagnostic Centre</td>\n",
       "      <td>Internship Student</td>\n",
       "      <td>None</td>\n",
       "      <td>i worked with the radiographers to know how to...</td>\n",
       "      <td>None</td>\n",
       "      <td>operating some biomedical equipments</td>\n",
       "      <td>None</td>\n",
       "      <td>None</td>\n",
       "    </tr>\n",
       "    <tr>\n",
       "      <th>1</th>\n",
       "      <td>None</td>\n",
       "      <td>Temmy Enterprise</td>\n",
       "      <td>Computer Operator</td>\n",
       "      <td>None</td>\n",
       "      <td>None</td>\n",
       "      <td>None</td>\n",
       "      <td>None</td>\n",
       "      <td>None</td>\n",
       "      <td>None</td>\n",
       "    </tr>\n",
       "    <tr>\n",
       "      <th>2</th>\n",
       "      <td>B. Eng.</td>\n",
       "      <td>None</td>\n",
       "      <td>None</td>\n",
       "      <td>Mechanical Engineering</td>\n",
       "      <td>None</td>\n",
       "      <td>KWASU</td>\n",
       "      <td>None</td>\n",
       "      <td>2017.0</td>\n",
       "      <td>2022.0</td>\n",
       "    </tr>\n",
       "    <tr>\n",
       "      <th>3</th>\n",
       "      <td>None</td>\n",
       "      <td>None</td>\n",
       "      <td>None</td>\n",
       "      <td>None</td>\n",
       "      <td>None</td>\n",
       "      <td>None</td>\n",
       "      <td>['Awards', '']</td>\n",
       "      <td>None</td>\n",
       "      <td>None</td>\n",
       "    </tr>\n",
       "    <tr>\n",
       "      <th>4</th>\n",
       "      <td>None</td>\n",
       "      <td>Belgian International School</td>\n",
       "      <td>Teacher</td>\n",
       "      <td>None</td>\n",
       "      <td>Teaching, although hard but easy to practice. ...</td>\n",
       "      <td>None</td>\n",
       "      <td>None</td>\n",
       "      <td>None</td>\n",
       "      <td>None</td>\n",
       "    </tr>\n",
       "    <tr>\n",
       "      <th>5</th>\n",
       "      <td>None</td>\n",
       "      <td>None</td>\n",
       "      <td>None</td>\n",
       "      <td>None</td>\n",
       "      <td>None</td>\n",
       "      <td>None</td>\n",
       "      <td>None</td>\n",
       "      <td>None</td>\n",
       "      <td>None</td>\n",
       "    </tr>\n",
       "    <tr>\n",
       "      <th>6</th>\n",
       "      <td>None</td>\n",
       "      <td>None</td>\n",
       "      <td>['Research assistant, UPM, 5 years']</td>\n",
       "      <td>None</td>\n",
       "      <td>Perform research activities</td>\n",
       "      <td>None</td>\n",
       "      <td>['Published research that formed basis of a ne...</td>\n",
       "      <td>None</td>\n",
       "      <td>None</td>\n",
       "    </tr>\n",
       "  </tbody>\n",
       "</table>\n",
       "</div>"
      ],
      "text/plain": [
       "   Degree                         Organisation  \\\n",
       "0     None  Harmony Advanced Diagnostic Centre   \n",
       "1     None                    Temmy Enterprise   \n",
       "2  B. Eng.                                None   \n",
       "3     None                                None   \n",
       "4     None        Belgian International School   \n",
       "5     None                                None   \n",
       "6     None                                None   \n",
       "\n",
       "                               Position                Program   \\\n",
       "0                    Internship Student                    None   \n",
       "1                     Computer Operator                    None   \n",
       "2                                  None  Mechanical Engineering   \n",
       "3                                  None                    None   \n",
       "4                               Teacher                    None   \n",
       "5                                  None                    None   \n",
       "6  ['Research assistant, UPM, 5 years']                    None   \n",
       "\n",
       "                                        Role summary School   \\\n",
       "0  i worked with the radiographers to know how to...    None   \n",
       "1                                               None    None   \n",
       "2                                               None   KWASU   \n",
       "3                                               None    None   \n",
       "4  Teaching, although hard but easy to practice. ...    None   \n",
       "5                                               None    None   \n",
       "6                        Perform research activities    None   \n",
       "\n",
       "                                    Top_achievements Year of Admission   \\\n",
       "0               operating some biomedical equipments               None   \n",
       "1                                               None               None   \n",
       "2                                               None             2017.0   \n",
       "3                                     ['Awards', '']               None   \n",
       "4                                               None               None   \n",
       "5                                               None               None   \n",
       "6  ['Published research that formed basis of a ne...               None   \n",
       "\n",
       "  Year of graduation   \n",
       "0                None  \n",
       "1                None  \n",
       "2              2022.0  \n",
       "3                None  \n",
       "4                None  \n",
       "5                None  \n",
       "6                None  "
      ]
     },
     "execution_count": 6,
     "metadata": {},
     "output_type": "execute_result"
    }
   ],
   "source": [
    "work_xp"
   ]
  },
  {
   "cell_type": "code",
   "execution_count": 7,
   "metadata": {},
   "outputs": [
    {
     "data": {
      "text/html": [
       "<div>\n",
       "<style scoped>\n",
       "    .dataframe tbody tr th:only-of-type {\n",
       "        vertical-align: middle;\n",
       "    }\n",
       "\n",
       "    .dataframe tbody tr th {\n",
       "        vertical-align: top;\n",
       "    }\n",
       "\n",
       "    .dataframe thead th {\n",
       "        text-align: right;\n",
       "    }\n",
       "</style>\n",
       "<table border=\"1\" class=\"dataframe\">\n",
       "  <thead>\n",
       "    <tr style=\"text-align: right;\">\n",
       "      <th></th>\n",
       "      <th>Degree</th>\n",
       "      <th>Organisation</th>\n",
       "      <th>Position</th>\n",
       "      <th>Program</th>\n",
       "      <th>Role summary</th>\n",
       "      <th>School</th>\n",
       "      <th>Top_achievements</th>\n",
       "      <th>Year of Admission</th>\n",
       "      <th>Year of graduation</th>\n",
       "    </tr>\n",
       "  </thead>\n",
       "  <tbody>\n",
       "    <tr>\n",
       "      <th>count</th>\n",
       "      <td>7</td>\n",
       "      <td>7</td>\n",
       "      <td>7</td>\n",
       "      <td>7</td>\n",
       "      <td>7</td>\n",
       "      <td>7</td>\n",
       "      <td>7</td>\n",
       "      <td>7</td>\n",
       "      <td>7</td>\n",
       "    </tr>\n",
       "    <tr>\n",
       "      <th>unique</th>\n",
       "      <td>2</td>\n",
       "      <td>4</td>\n",
       "      <td>5</td>\n",
       "      <td>2</td>\n",
       "      <td>4</td>\n",
       "      <td>2</td>\n",
       "      <td>4</td>\n",
       "      <td>2</td>\n",
       "      <td>2</td>\n",
       "    </tr>\n",
       "    <tr>\n",
       "      <th>top</th>\n",
       "      <td>None</td>\n",
       "      <td>None</td>\n",
       "      <td>None</td>\n",
       "      <td>None</td>\n",
       "      <td>None</td>\n",
       "      <td>None</td>\n",
       "      <td>None</td>\n",
       "      <td>None</td>\n",
       "      <td>None</td>\n",
       "    </tr>\n",
       "    <tr>\n",
       "      <th>freq</th>\n",
       "      <td>6</td>\n",
       "      <td>4</td>\n",
       "      <td>3</td>\n",
       "      <td>6</td>\n",
       "      <td>4</td>\n",
       "      <td>6</td>\n",
       "      <td>4</td>\n",
       "      <td>6</td>\n",
       "      <td>6</td>\n",
       "    </tr>\n",
       "  </tbody>\n",
       "</table>\n",
       "</div>"
      ],
      "text/plain": [
       "       Degree  Organisation Position Program  Role summary School   \\\n",
       "count        7            7        7        7            7       7   \n",
       "unique       2            4        5        2            4       2   \n",
       "top       None         None     None     None         None    None   \n",
       "freq         6            4        3        6            4       6   \n",
       "\n",
       "       Top_achievements Year of Admission  Year of graduation   \n",
       "count                 7                  7                   7  \n",
       "unique                4                  2                   2  \n",
       "top                None               None                None  \n",
       "freq                  4                  6                   6  "
      ]
     },
     "execution_count": 7,
     "metadata": {},
     "output_type": "execute_result"
    }
   ],
   "source": [
    "work_xp.describe()"
   ]
  },
  {
   "cell_type": "code",
   "execution_count": 8,
   "metadata": {},
   "outputs": [
    {
     "name": "stdout",
     "output_type": "stream",
     "text": [
      "['None' 'B. Eng.']\n",
      "['Harmony Advanced Diagnostic Centre' 'Temmy Enterprise' 'None'\n",
      " 'Belgian International School']\n",
      "['Internship Student' 'Computer Operator' 'None' 'Teacher'\n",
      " \"['Research assistant, UPM, 5 years']\"]\n",
      "['None' 'Mechanical Engineering']\n",
      "['i worked with the radiographers to know how to work operate some biomedical engineering equipments(like: MRI, CT Scan, X-rays, Fluoroscopy) to view the internal organs of the body for diagnosis'\n",
      " 'None'\n",
      " 'Teaching, although hard but easy to practice. And with my years of experience, I have been able to acquire knowledge on leadership and team work. I hope this knowledge will he useful in years to come'\n",
      " 'Perform research activities']\n",
      "['None' 'KWASU']\n",
      "['operating some biomedical equipments' 'None' \"['Awards', '']\"\n",
      " \"['Published research that formed basis of a new procedure in water treatment']\"]\n",
      "['None' '2017.0']\n",
      "['None' '2022.0']\n"
     ]
    }
   ],
   "source": [
    "for i in work_xp:\n",
    "    print(work_xp[i].unique())"
   ]
  },
  {
   "cell_type": "code",
   "execution_count": 9,
   "metadata": {},
   "outputs": [
    {
     "data": {
      "text/plain": [
       "Index(['Degree ', 'Organisation', 'Position', 'Program ', 'Role summary',\n",
       "       'School ', 'Top_achievements', 'Year of Admission ',\n",
       "       'Year of graduation '],\n",
       "      dtype='object')"
      ]
     },
     "execution_count": 9,
     "metadata": {},
     "output_type": "execute_result"
    }
   ],
   "source": [
    "work_xp.columns"
   ]
  },
  {
   "cell_type": "code",
   "execution_count": 10,
   "metadata": {},
   "outputs": [],
   "source": [
    "# color palette\n",
    "\n",
    "name_colors = ['#78C850','#F08030','#6890F0','#A8B820', '#A8A878','#A040A0', '#F8D030', '#E0C068', '#7038F8', '#7038F8', '#98D8D8']\n"
   ]
  },
  {
   "cell_type": "code",
   "execution_count": 11,
   "metadata": {},
   "outputs": [
    {
     "data": {
      "text/plain": [
       "Text(0.5, 1.0, 'POSITION')"
      ]
     },
     "execution_count": 11,
     "metadata": {},
     "output_type": "execute_result"
    },
    {
     "data": {
      "image/png": "[encoded data removed]",
      "text/plain": [
       "<Figure size 720x432 with 1 Axes>"
      ]
     },
     "metadata": {
      "needs_background": "light"
     },
     "output_type": "display_data"
    }
   ],
   "source": [
    "# bAR PLOT\n",
    "plt.figure(figsize=(10, 6))\n",
    "# count plot (a.k.a Bar plot)\n",
    "sns.countplot(x=\"Position\", data=work_xp, palette= name_colors)\n",
    "plt.title('POSITION')"
   ]
  },
  {
   "cell_type": "markdown",
   "metadata": {},
   "source": [
    "## Observation\n",
    "- Majority of the people in this dataset are people which have held no positions."
   ]
  },
  {
   "cell_type": "code",
   "execution_count": 12,
   "metadata": {},
   "outputs": [
    {
     "data": {
      "text/plain": [
       "Text(0.5, 1.0, 'ROLE SUMMARY')"
      ]
     },
     "execution_count": 12,
     "metadata": {},
     "output_type": "execute_result"
    },
    {
     "data": {
      "image/png": "[encoded data removed]",
      "text/plain": [
       "<Figure size 1008x720 with 1 Axes>"
      ]
     },
     "metadata": {
      "needs_background": "light"
     },
     "output_type": "display_data"
    }
   ],
   "source": [
    "# bAR PLOT\n",
    "plt.figure(figsize=(14,10))\n",
    "# count plot (a.k.a Bar plot)\n",
    "sns.countplot(x=\"Role summary\", data=work_xp, palette= name_colors)\n",
    "plt.title('ROLE SUMMARY')"
   ]
  },
  {
   "cell_type": "markdown",
   "metadata": {},
   "source": [
    "## Observation\n",
    "- Majority of the people in this dataset have no work summary"
   ]
  },
  {
   "cell_type": "code",
   "execution_count": 13,
   "metadata": {},
   "outputs": [
    {
     "data": {
      "text/plain": [
       "Text(0.5, 1.0, 'TOP ACHIEVEMENTS')"
      ]
     },
     "execution_count": 13,
     "metadata": {},
     "output_type": "execute_result"
    },
    {
     "data": {
      "image/png": "[encoded data removed]",
      "text/plain": [
       "<Figure size 720x432 with 1 Axes>"
      ]
     },
     "metadata": {
      "needs_background": "light"
     },
     "output_type": "display_data"
    }
   ],
   "source": [
    "# bAR PLOT\n",
    "plt.figure(figsize=(10,6))\n",
    "# count plot (a.k.a Bar plot)\n",
    "sns.countplot(x=\"Top_achievements\", data=work_xp, palette= name_colors)\n",
    "plt.title('TOP ACHIEVEMENTS')"
   ]
  },
  {
   "cell_type": "markdown",
   "metadata": {},
   "source": [
    "## Observation\n",
    "- Majority of the people in this dataset have no top achievements"
   ]
  },
  {
   "cell_type": "code",
   "execution_count": null,
   "metadata": {},
   "outputs": [],
   "source": []
  }
 ],
 "metadata": {
  "kernelspec": {
   "display_name": "Python 3",
   "language": "python",
   "name": "python3"
  },
  "language_info": {
   "codemirror_mode": {
    "name": "ipython",
    "version": 3
   },
   "file_extension": ".py",
   "mimetype": "text/x-python",
   "name": "python",
   "nbconvert_exporter": "python",
   "pygments_lexer": "ipython3",
   "version": "3.7.3"
  }
 },
 "nbformat": 4,
 "nbformat_minor": 2
}
