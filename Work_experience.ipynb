{
 "cells": [
  {
   "cell_type": "code",
   "execution_count": null,
   "metadata": {},
   "outputs": [],
   "source": [
    "import pandas as pd\n",
    "print(\"MY RESUME\")\n",
    "print(\"\\nPlease fill in your correct details below\")\n",
    "print(\"\\nRead the instructions given before answering\\n\")\n",
    "\n",
    "##### Work experience\n",
    "print(\"\\n\\nWORK EXPERIENCE\")\n",
    "wrk = input(\"Have you had any work experience: Yes/No\\n\")\n",
    "if wrk == \"yes\" and \"Yes\":\n",
    "\tjob = list(input(\"Enter position, name of organisation, year spent\\n(use fullstop '.' to separate the jobs if there are more than one):\\n\").split(\". \"))\n",
    "\tyr_exp = input(\"Total Years of Experience:\\n\")\n",
    "\tsummary = input(\"Write your work summary here:\\n\")\n",
    "\ttp_ach = list(input(\"\\nTop Achievements:(optional)\\n(use a comma ',' to separate your achievements):\\n\").split(\", \"))\n",
    "\tobjective = None\n",
    "elif wrk == \"no\" and \"No\":\n",
    "\tobjective = input(\"Write your work objective here:\\n\")\n",
    "\tjob, yr_exp, summary, tp_ach = None, None, None, None\n",
    "else:\n",
    "        objective = input(\"\\nWrite your work objective here:\\n\")\n",
    "        job, yr_exp, summary, tp_ach = None, None, None, None\n",
    "\n",
    "WE= {'Job':[job], 'Years of experience':[yr_exp], 'Work summary':[summary], 'Top Achievements':[tp_ach], 'Work Objective':[objective]}\n",
    "work_xp = pd.DataFrame(WE)\n",
    "print(work_xp)\n",
    "work_xp.to_csv('{}_Work_Experience.csv'.format(fname)\n"
   ]
  }
 ],
 "metadata": {
  "kernelspec": {
   "display_name": "Python 3",
   "language": "python",
   "name": "python3"
  },
  "language_info": {
   "codemirror_mode": {
    "name": "ipython",
    "version": 3
   },
   "file_extension": ".py",
   "mimetype": "text/x-python",
   "name": "python",
   "nbconvert_exporter": "python",
   "pygments_lexer": "ipython3",
   "version": "3.7.2"
  }
 },
 "nbformat": 4,
 "nbformat_minor": 2
}
