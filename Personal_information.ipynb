{
 "cells": [
  {
   "cell_type": "code",
   "execution_count": null,
   "metadata": {},
   "outputs": [],
   "source": [
    "import pandas as pd\n",
    "print(\"MY RESUME\")\n",
    "print(\"\\nPlease fill in your correct details below\")\n",
    "print(\"\\nRead the instructions given before answering\\n\")\n",
    "\n",
    "##### personal information\n",
    "print(\"PERSONAL INFORMATION\")\n",
    "lname = input(\"Last name:  \")\n",
    "fname = input(\"First name:  \")\n",
    "Tel = input(\"Phone number:  \")\n",
    "location = input(\"Location:  \")\n",
    "email = input(\"E-mail:  \")\n",
    "\n",
    "PI= {'Last name':[lname], 'First name':[fname], 'Phone number':[Tel], 'Location':[location], 'E-mail':[email]}\n",
    "pers_info = pd.DataFrame(PI)\n",
    "print(pers_info)\n",
    "pers_info.to_csv('{}_Personal_Information.csv'.format(fname))"
   ]
  }
 ],
 "metadata": {
  "kernelspec": {
   "display_name": "Python 3",
   "language": "python",
   "name": "python3"
  },
  "language_info": {
   "codemirror_mode": {
    "name": "ipython",
    "version": 3
   },
   "file_extension": ".py",
   "mimetype": "text/x-python",
   "name": "python",
   "nbconvert_exporter": "python",
   "pygments_lexer": "ipython3",
   "version": "3.7.2"
  }
 },
 "nbformat": 4,
 "nbformat_minor": 2
}
